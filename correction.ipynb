{
 "cells": [
  {
   "cell_type": "code",
   "execution_count": 2,
   "metadata": {},
   "outputs": [],
   "source": [
    "import numpy as np\n",
    "import pandas as pd\n",
    "import matplotlib.pyplot as plt"
   ]
  },
  {
   "cell_type": "markdown",
   "metadata": {},
   "source": [
    "# 基礎統計(二)之練習三："
   ]
  },
  {
   "cell_type": "markdown",
   "metadata": {},
   "source": [
    "觀察到20筆資料( 9, 8, 7, 16, 9, 2, 7, 5, 13, 6, 10, 9, 8, 9, 11, 5, 7, 11, 7, 7 )，<br>\n",
    "假設是由二項分布產生，並已知分布參數的 n=20，\n",
    "<br>– 依據估計的模型產生1000個樣本，計算估計值的平均與變異\n",
    "<br>– 依據同樣的1000個樣本，計算估計值的均方誤差\n",
    "<br>– 檢查均方誤差是否為偏誤的平方＋變異數"
   ]
  },
  {
   "cell_type": "code",
   "execution_count": 2,
   "metadata": {
    "collapsed": true
   },
   "outputs": [],
   "source": [
    "def mse(theta, theta_hat):\n",
    "    ans=np.square(theta - theta_hat).mean()\n",
    "    return round(ans, 15)"
   ]
  },
  {
   "cell_type": "code",
   "execution_count": 3,
   "metadata": {
    "collapsed": true
   },
   "outputs": [],
   "source": [
    "def bias_squ_add_var(theta, theta_hat):\n",
    "    ans=np.square(np.mean(theta_hat)-theta)+np.var(theta_hat)\n",
    "    return round(ans, 15)"
   ]
  },
  {
   "cell_type": "code",
   "execution_count": 4,
   "metadata": {},
   "outputs": [
    {
     "name": "stdout",
     "output_type": "stream",
     "text": [
      "p估計的均方誤差: 0.00062888125\n",
      "p估計的偏誤的平方＋變異數 0.00062888125\n"
     ]
    }
   ],
   "source": [
    "sample_size=20    #為避免與參數 n 混淆，改其命名\n",
    "p=0.415           #由先前練習估計得到參數的估計 \n",
    "P=[]\n",
    "\n",
    "for i in np.repeat(sample_size, 1000):\n",
    "    sample=np.random.binomial(20, p, size=i) \n",
    "    # 先前版本誤為 np.random.binomial(n, p, size=1000)\n",
    "    p_i=np.mean(sample)/n     #先前版本誤設為  p_i=1/np.mean(sample)\n",
    "    P.append(p_i)\n",
    "    \n",
    "P=np.array(P)\n",
    "\n",
    "MSE_p=mse(p, P)\n",
    "\n",
    "t1=bias_squ_add_var(p, P)\n",
    "\n",
    "print('p估計的均方誤差:',MSE_p)\n",
    "print('p估計的偏誤的平方＋變異數',t1)"
   ]
  },
  {
   "cell_type": "code",
   "execution_count": 5,
   "metadata": {},
   "outputs": [
    {
     "data": {
      "text/plain": [
       "True"
      ]
     },
     "execution_count": 5,
     "metadata": {},
     "output_type": "execute_result"
    }
   ],
   "source": [
    "MSE_p==t1"
   ]
  },
  {
   "cell_type": "markdown",
   "metadata": {},
   "source": [
    "# 基礎統計(三)之練習三 (B)："
   ]
  },
  {
   "cell_type": "markdown",
   "metadata": {},
   "source": [
    "### 某國小希望了解促進閱讀活動的成效，隨機要求三個班級參加。活動過後，由三個班級中抽樣15名學生，並由其他班級也抽樣15名學生作為對照組，訪問其每週閱讀小時數。"
   ]
  },
  {
   "cell_type": "markdown",
   "metadata": {},
   "source": [
    "$\\bullet$ 參與組 12,13,14,11,14,13,15,17,13,16,14,13,12,15,14<br>\n",
    "$\\bullet$ 對照組 13,13,17,8,8,18,10,7,11,8,12,11,13,10,14<br>\n",
    "$\\bullet$ 在顯著水準 5% 之下，回答閱讀活動是否明顯有成效？<br>\n",
    "（比較參與組與對照組平均之差異）"
   ]
  },
  {
   "cell_type": "markdown",
   "metadata": {},
   "source": [
    "$\\mu_1$=有參加閱讀活動的班級的平均閱讀時數，$\\mu_2$=沒有參加閱讀活動的班級的平均閱讀時數<br><br>\n",
    "$H_o$：$\\mu_1=\\mu_2$<br>\n",
    "$H_o$：$\\mu_1 > \\mu_2$"
   ]
  },
  {
   "cell_type": "code",
   "execution_count": 6,
   "metadata": {},
   "outputs": [
    {
     "name": "stdout",
     "output_type": "stream",
     "text": [
      "檢定統計量= 2.3588627718971553\n"
     ]
    }
   ],
   "source": [
    "sample1=[12,13,14,11,14,13,15,17,13,16,14,13,12,15,14]\n",
    "sample2=[13,13,17,8,8,18,10,7,11,8,12,11,13,10,14]\n",
    "mean1=np.mean(sample1)\n",
    "mean2=np.mean(sample2)\n",
    "mean_null=np.mean([sample1[:],sample2[:]])  #虛無假設下應視為有相同平均\n",
    "\n",
    "s1=np.var(sample1, ddof=1)\n",
    "s2=np.var(sample2, ddof=1)\n",
    "n1=n2=15\n",
    "\n",
    "s=(s1/n1)+(s2/n2)\n",
    "\n",
    "T=(mean1-mean2)/np.sqrt(s)\n",
    "\n",
    "print('檢定統計量=', T)"
   ]
  },
  {
   "cell_type": "code",
   "execution_count": 7,
   "metadata": {
    "collapsed": true
   },
   "outputs": [],
   "source": [
    "Ti=[]\n",
    "\n",
    "\n",
    "for i in range(1000):\n",
    "    sample1i=np.random.normal(loc=mean_null, scale=s1, size=n1) #此處平均參數原誤為 mean1 \n",
    "    sample2i=np.random.normal(loc=mean_null, scale=s2, size=n2) #此處平均參數原誤為 mean2\n",
    "    mean1i=np.mean(sample1i)\n",
    "    mean2i=np.mean(sample2i)\n",
    "    s1i=np.var(sample1i, ddof=1)\n",
    "    s2i=np.var(sample2i, ddof=1)\n",
    "    s_i=(s1i/n1)+(s2i/n2)\n",
    "    ti=(mean1i-mean2i)/np.sqrt(s_i)\n",
    "    Ti.append(ti)\n",
    "    \n",
    "Ti=np.array(Ti)"
   ]
  },
  {
   "cell_type": "code",
   "execution_count": 8,
   "metadata": {},
   "outputs": [
    {
     "data": {
      "image/png": "[encoded data removed]",
      "text/plain": [
       "<Figure size 432x288 with 1 Axes>"
      ]
     },
     "metadata": {
      "needs_background": "light"
     },
     "output_type": "display_data"
    }
   ],
   "source": [
    "plt.hist(Ti, density=1, edgecolor='black')\n",
    "plt.vlines(T, 0, 0.3, colors = \"r\")\n",
    "plt.show()"
   ]
  },
  {
   "cell_type": "markdown",
   "metadata": {},
   "source": [
    "#### $\\bullet$ p值法："
   ]
  },
  {
   "cell_type": "code",
   "execution_count": 9,
   "metadata": {},
   "outputs": [
    {
     "name": "stdout",
     "output_type": "stream",
     "text": [
      "p-value= 0.018\n"
     ]
    }
   ],
   "source": [
    "print('p-value=',sum(Ti>T)/len(Ti))    "
   ]
  },
  {
   "cell_type": "markdown",
   "metadata": {},
   "source": [
    "$\\text{p-value}<\\alpha\\Rightarrow\\text{拒絕}H_0$，表示參加閱讀活動有顯著成效 （# 因先前平均參數有誤，結論也需更正）"
   ]
  },
  {
   "cell_type": "markdown",
   "metadata": {},
   "source": [
    "#### $\\bullet$ 拒絕域法："
   ]
  },
  {
   "cell_type": "code",
   "execution_count": 10,
   "metadata": {},
   "outputs": [
    {
     "name": "stdout",
     "output_type": "stream",
     "text": [
      "落在拒絕域？ True\n"
     ]
    }
   ],
   "source": [
    "Tis=np.sort(Ti,0)\n",
    "print('落在拒絕域？', (T>Tis[949]) )"
   ]
  },
  {
   "cell_type": "code",
   "execution_count": null,
   "metadata": {
    "collapsed": true
   },
   "outputs": [],
   "source": [
    "#test"
   ]
  },
  {
   "cell_type": "markdown",
   "metadata": {},
   "source": [
    "$T> t_{1-\\alpha}\\Rightarrow\\text{拒絕}H_0$，表示參加閱讀活動有顯著成效 （# 因先前平均參數有誤，結論也需更正）"
   ]
  }
 ],
 "metadata": {
  "kernelspec": {
   "display_name": "Python 3",
   "language": "python",
   "name": "python3"
  },
  "language_info": {
   "codemirror_mode": {
    "name": "ipython",
    "version": 3
   },
   "file_extension": ".py",
   "mimetype": "text/x-python",
   "name": "python",
   "nbconvert_exporter": "python",
   "pygments_lexer": "ipython3",
   "version": "3.6.8"
  }
 },
 "nbformat": 4,
 "nbformat_minor": 2
}
