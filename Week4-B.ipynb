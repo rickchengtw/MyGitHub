{
 "cells": [
  {
   "cell_type": "code",
   "execution_count": 2,
   "metadata": {},
   "outputs": [],
   "source": [
    "import pandas as pd\n",
    "import numpy as np"
   ]
  },
  {
   "cell_type": "markdown",
   "metadata": {},
   "source": [
    "### 練習一："
   ]
  },
  {
   "cell_type": "markdown",
   "metadata": {},
   "source": [
    "一生物實驗會有三種結果，經驗上三類的比例應分別為$(1-\\theta)^2, 2\\theta(1-\\theta),$ 與 $\\theta^2$。今觀察到三類的次數分布為 343，501，186。判斷蒐集到的資料是否與經驗相衝突？ (設顯著水準 0.05) "
   ]
  },
  {
   "cell_type": "code",
   "execution_count": 3,
   "metadata": {},
   "outputs": [],
   "source": [
    "sample=[343, 501, 186]\n",
    "N=sum(sample)"
   ]
  },
  {
   "cell_type": "code",
   "execution_count": 4,
   "metadata": {},
   "outputs": [
    {
     "name": "stdout",
     "output_type": "stream",
     "text": [
      "參數估計 theta_hat= [0.4233621]\n"
     ]
    }
   ],
   "source": [
    "from scipy.optimize import minimize\n",
    "\n",
    "def ss(theta):    \n",
    "    n1=N*(1-theta)**2\n",
    "    n2=N*2*theta*(1-theta)\n",
    "    n3=N*theta**2\n",
    "    return((n1-sample[0])**2+(n2-sample[1])**2+(n3-sample[2])**2)\n",
    "\n",
    "initParams = [0.5]\n",
    "theta_est = minimize(ss, initParams,  bounds=[(0,1)],method='L-BFGS-B').x\n",
    "\n",
    "print('參數估計 theta_hat=',theta_est)\n"
   ]
  },
  {
   "cell_type": "code",
   "execution_count": 5,
   "metadata": {},
   "outputs": [
    {
     "name": "stdout",
     "output_type": "stream",
     "text": [
      "do not reject H0 where H0: data follow past experience\n"
     ]
    }
   ],
   "source": [
    "from scipy.stats import chi2\n",
    "\n",
    "theta=theta_est[0]\n",
    "Ei=[N*(1-theta)**2,N*2*theta*(1-theta),N*theta**2]\n",
    "X=np.sum(np.square(np.array(sample)-np.array(Ei))/np.array(Ei))\n",
    "\n",
    "df=3-1-1\n",
    "X_alpha=chi2.isf(0.05, df)\n",
    "    \n",
    "if X>=X_alpha:\n",
    "    print(\"reject H0 where H0: data follow past experience\")\n",
    "else:\n",
    "    print(\"do not reject H0 where H0: data follow past experience\")"
   ]
  },
  {
   "cell_type": "markdown",
   "metadata": {},
   "source": [
    "### 練習二："
   ]
  },
  {
   "cell_type": "code",
   "execution_count": 6,
   "metadata": {},
   "outputs": [
    {
     "data": {
      "text/html": [
       "<div>\n",
       "<style scoped>\n",
       "    .dataframe tbody tr th:only-of-type {\n",
       "        vertical-align: middle;\n",
       "    }\n",
       "\n",
       "    .dataframe tbody tr th {\n",
       "        vertical-align: top;\n",
       "    }\n",
       "\n",
       "    .dataframe thead th {\n",
       "        text-align: right;\n",
       "    }\n",
       "</style>\n",
       "<table border=\"1\" class=\"dataframe\">\n",
       "  <thead>\n",
       "    <tr style=\"text-align: right;\">\n",
       "      <th></th>\n",
       "      <th>hair_black</th>\n",
       "      <th>hair_brown</th>\n",
       "      <th>hair_red</th>\n",
       "      <th>hair_bond</th>\n",
       "    </tr>\n",
       "  </thead>\n",
       "  <tbody>\n",
       "    <tr>\n",
       "      <th>eye_brown</th>\n",
       "      <td>68</td>\n",
       "      <td>119</td>\n",
       "      <td>26</td>\n",
       "      <td>7</td>\n",
       "    </tr>\n",
       "    <tr>\n",
       "      <th>eye_blue</th>\n",
       "      <td>20</td>\n",
       "      <td>84</td>\n",
       "      <td>17</td>\n",
       "      <td>94</td>\n",
       "    </tr>\n",
       "    <tr>\n",
       "      <th>eye_hazel</th>\n",
       "      <td>15</td>\n",
       "      <td>54</td>\n",
       "      <td>14</td>\n",
       "      <td>10</td>\n",
       "    </tr>\n",
       "    <tr>\n",
       "      <th>eye_green</th>\n",
       "      <td>5</td>\n",
       "      <td>29</td>\n",
       "      <td>14</td>\n",
       "      <td>16</td>\n",
       "    </tr>\n",
       "  </tbody>\n",
       "</table>\n",
       "</div>"
      ],
      "text/plain": [
       "           hair_black  hair_brown  hair_red  hair_bond\n",
       "eye_brown          68         119        26          7\n",
       "eye_blue           20          84        17         94\n",
       "eye_hazel          15          54        14         10\n",
       "eye_green           5          29        14         16"
      ]
     },
     "execution_count": 6,
     "metadata": {},
     "output_type": "execute_result"
    }
   ],
   "source": [
    "data1=pd.DataFrame(data=[[68, 119, 26, 7],[20, 84, 17, 94],[15, 54, 14, 10],[5, 29, 14, 16]], \n",
    "                   columns=['hair_black','hair_brown','hair_red','hair_bond'], \n",
    "                   index=['eye_brown','eye_blue','eye_hazel','eye_green'])\n",
    "data1"
   ]
  },
  {
   "cell_type": "code",
   "execution_count": 7,
   "metadata": {},
   "outputs": [],
   "source": [
    "from scipy.stats import chi2\n",
    "\n",
    "def chi_square_text(data, alpha):\n",
    "    R_n=data.shape[0]\n",
    "    C_n=data.shape[1]\n",
    "    Ri=sum(data.T.values)\n",
    "    Cj=sum(data.values)\n",
    "    N=sum(Ri)\n",
    "    Eij=pd.DataFrame(np.repeat(np.nan, R_n*C_n).reshape(R_n, C_n))\n",
    "    for i in range(R_n):\n",
    "        for j in range(C_n):\n",
    "            Eij.loc[i,j]=(Ri[i]*Cj[j])/N\n",
    "    \n",
    "    Oij=np.matrix(data)\n",
    "    Eij=np.matrix(Eij)\n",
    "    X=np.sum( np.square(Oij-Eij)/Eij )\n",
    "    \n",
    "    df=(R_n-1)*(C_n-1)\n",
    "    X_alpha=chi2.isf(alpha, df)\n",
    "    \n",
    "    V=np.sqrt(X/(N*min(R_n-1, C_n-1)))\n",
    "    \n",
    "    if X>=X_alpha:\n",
    "        print(\"reject H0 where H0: two variable are independent, and Cramer's V=\", V)\n",
    "    else:\n",
    "        print(\"do not reject H0 where H0: two variable are independent, and Cramer's V=\", V)\n"
   ]
  },
  {
   "cell_type": "code",
   "execution_count": 8,
   "metadata": {},
   "outputs": [
    {
     "name": "stdout",
     "output_type": "stream",
     "text": [
      "reject H0 where H0: two variable are independent, and Cramer's V= 0.2790446233426584\n"
     ]
    }
   ],
   "source": [
    "chi_square_text(data1, alpha=0.05)"
   ]
  },
  {
   "cell_type": "markdown",
   "metadata": {},
   "source": [
    "### 練習三："
   ]
  },
  {
   "cell_type": "code",
   "execution_count": 11,
   "metadata": {},
   "outputs": [
    {
     "data": {
      "text/html": [
       "<div>\n",
       "<style scoped>\n",
       "    .dataframe tbody tr th:only-of-type {\n",
       "        vertical-align: middle;\n",
       "    }\n",
       "\n",
       "    .dataframe tbody tr th {\n",
       "        vertical-align: top;\n",
       "    }\n",
       "\n",
       "    .dataframe thead th {\n",
       "        text-align: right;\n",
       "    }\n",
       "</style>\n",
       "<table border=\"1\" class=\"dataframe\">\n",
       "  <thead>\n",
       "    <tr style=\"text-align: right;\">\n",
       "      <th></th>\n",
       "      <th>a</th>\n",
       "      <th>b</th>\n",
       "      <th>c</th>\n",
       "    </tr>\n",
       "  </thead>\n",
       "  <tbody>\n",
       "    <tr>\n",
       "      <th>0</th>\n",
       "      <td>18</td>\n",
       "      <td>20</td>\n",
       "      <td>23</td>\n",
       "    </tr>\n",
       "    <tr>\n",
       "      <th>1</th>\n",
       "      <td>21</td>\n",
       "      <td>19</td>\n",
       "      <td>21</td>\n",
       "    </tr>\n",
       "    <tr>\n",
       "      <th>2</th>\n",
       "      <td>19</td>\n",
       "      <td>20</td>\n",
       "      <td>18</td>\n",
       "    </tr>\n",
       "    <tr>\n",
       "      <th>3</th>\n",
       "      <td>18</td>\n",
       "      <td>22</td>\n",
       "      <td>25</td>\n",
       "    </tr>\n",
       "    <tr>\n",
       "      <th>4</th>\n",
       "      <td>16</td>\n",
       "      <td>21</td>\n",
       "      <td>24</td>\n",
       "    </tr>\n",
       "  </tbody>\n",
       "</table>\n",
       "</div>"
      ],
      "text/plain": [
       "    a   b   c\n",
       "0  18  20  23\n",
       "1  21  19  21\n",
       "2  19  20  18\n",
       "3  18  22  25\n",
       "4  16  21  24"
      ]
     },
     "execution_count": 11,
     "metadata": {},
     "output_type": "execute_result"
    }
   ],
   "source": [
    "data=pd.DataFrame({'a':[18,21,19,18,16],'b':[20,19,20,22,21],'c':[23,21,18,25,24]})\n",
    "data"
   ]
  },
  {
   "cell_type": "code",
   "execution_count": 32,
   "metadata": {},
   "outputs": [],
   "source": [
    "def R_square(data):\n",
    "    n=data.shape[0] #資料中每組個數\n",
    "    m=data.shape[1] #資料組數\n",
    "    SSE=np.sum(np.var(data)*n)\n",
    "    \n",
    "    tmp=np.array(data).reshape(n*m,1)\n",
    "    all_mean=np.mean(tmp)\n",
    "    SST=np.sum((tmp-all_mean)**2)\n",
    "    \n",
    "    score=1-(SSE/SST)\n",
    "    return(score)"
   ]
  },
  {
   "cell_type": "code",
   "execution_count": 18,
   "metadata": {},
   "outputs": [
    {
     "name": "stdout",
     "output_type": "stream",
     "text": [
      "排序前資料的R^2= 0.4234375\n"
     ]
    }
   ],
   "source": [
    "print('排序前資料的R^2=', R_square(data))"
   ]
  },
  {
   "cell_type": "markdown",
   "metadata": {},
   "source": [
    "#### 用排序後資料分析"
   ]
  },
  {
   "cell_type": "code",
   "execution_count": 44,
   "metadata": {},
   "outputs": [
    {
     "data": {
      "text/html": [
       "<div>\n",
       "<style scoped>\n",
       "    .dataframe tbody tr th:only-of-type {\n",
       "        vertical-align: middle;\n",
       "    }\n",
       "\n",
       "    .dataframe tbody tr th {\n",
       "        vertical-align: top;\n",
       "    }\n",
       "\n",
       "    .dataframe thead th {\n",
       "        text-align: right;\n",
       "    }\n",
       "</style>\n",
       "<table border=\"1\" class=\"dataframe\">\n",
       "  <thead>\n",
       "    <tr style=\"text-align: right;\">\n",
       "      <th></th>\n",
       "      <th>a</th>\n",
       "      <th>b</th>\n",
       "      <th>c</th>\n",
       "    </tr>\n",
       "  </thead>\n",
       "  <tbody>\n",
       "    <tr>\n",
       "      <th>0</th>\n",
       "      <td>3.0</td>\n",
       "      <td>10.0</td>\n",
       "      <td>12.0</td>\n",
       "    </tr>\n",
       "    <tr>\n",
       "      <th>1</th>\n",
       "      <td>7.5</td>\n",
       "      <td>5.5</td>\n",
       "      <td>15.0</td>\n",
       "    </tr>\n",
       "    <tr>\n",
       "      <th>2</th>\n",
       "      <td>13.0</td>\n",
       "      <td>7.5</td>\n",
       "      <td>1.0</td>\n",
       "    </tr>\n",
       "    <tr>\n",
       "      <th>3</th>\n",
       "      <td>10.0</td>\n",
       "      <td>3.0</td>\n",
       "      <td>10.0</td>\n",
       "    </tr>\n",
       "    <tr>\n",
       "      <th>4</th>\n",
       "      <td>5.5</td>\n",
       "      <td>3.0</td>\n",
       "      <td>14.0</td>\n",
       "    </tr>\n",
       "  </tbody>\n",
       "</table>\n",
       "</div>"
      ],
      "text/plain": [
       "      a     b     c\n",
       "0   3.0  10.0  12.0\n",
       "1   7.5   5.5  15.0\n",
       "2  13.0   7.5   1.0\n",
       "3  10.0   3.0  10.0\n",
       "4   5.5   3.0  14.0"
      ]
     },
     "execution_count": 44,
     "metadata": {},
     "output_type": "execute_result"
    }
   ],
   "source": [
    "df=pd.DataFrame(data.values.flatten(),columns=['value'])\n",
    "df['rank']=df['value'].rank()\n",
    "rdata=pd.DataFrame({'a':df['rank'].values[0:5],'b':df['rank'].values[5:10],'c':df['rank'].values[10:15]})\n",
    "rdata"
   ]
  },
  {
   "cell_type": "code",
   "execution_count": 45,
   "metadata": {},
   "outputs": [
    {
     "data": {
      "text/plain": [
       "0      3.0\n",
       "1      7.5\n",
       "2     13.0\n",
       "3     10.0\n",
       "4      5.5\n",
       "5     10.0\n",
       "6      5.5\n",
       "7      7.5\n",
       "8      3.0\n",
       "9      3.0\n",
       "10    12.0\n",
       "11    15.0\n",
       "12     1.0\n",
       "13    10.0\n",
       "14    14.0\n",
       "Name: rank, dtype: float64"
      ]
     },
     "execution_count": 45,
     "metadata": {},
     "output_type": "execute_result"
    }
   ],
   "source": [
    "df['rank']"
   ]
  },
  {
   "cell_type": "code",
   "execution_count": 17,
   "metadata": {},
   "outputs": [
    {
     "name": "stdout",
     "output_type": "stream",
     "text": [
      "排序後資料的R^2= 0.19345454545454555\n"
     ]
    }
   ],
   "source": [
    "print('排序後資料的R^2=', R_square(rdata))"
   ]
  },
  {
   "cell_type": "markdown",
   "metadata": {},
   "source": [
    "### 練習五："
   ]
  },
  {
   "cell_type": "code",
   "execution_count": 17,
   "metadata": {},
   "outputs": [],
   "source": [
    "from scipy.stats import pearsonr, spearmanr\n",
    "\n",
    "data=pd.read_csv('data.csv')\n",
    "\n",
    "dataset=data.dataset.unique()\n",
    "x_mean=[]\n",
    "x_var=[]\n",
    "y_mean=[]\n",
    "y_var=[]\n",
    "xy_pearson_corr=[]\n",
    "\n",
    "for i in dataset:\n",
    "    tmp=data[data.dataset==i]\n",
    "    xmean=np.mean(tmp.x)\n",
    "    x_mean.append(xmean)\n",
    "    xvar=np.var(tmp.x, ddof=1)\n",
    "    x_var.append(xvar)\n",
    "    ymean=np.mean(tmp.y)\n",
    "    y_mean.append(ymean)\n",
    "    yvar=np.var(tmp.y, ddof=1)\n",
    "    y_var.append(yvar)\n",
    "    pear_corr, pear_p_value =pearsonr(tmp.x, tmp.y)\n",
    "    xy_pearson_corr.append(pear_corr)\n",
    "    \n",
    "    \n",
    "    "
   ]
  },
  {
   "cell_type": "code",
   "execution_count": 18,
   "metadata": {},
   "outputs": [
    {
     "data": {
      "text/html": [
       "<div>\n",
       "<style scoped>\n",
       "    .dataframe tbody tr th:only-of-type {\n",
       "        vertical-align: middle;\n",
       "    }\n",
       "\n",
       "    .dataframe tbody tr th {\n",
       "        vertical-align: top;\n",
       "    }\n",
       "\n",
       "    .dataframe thead th {\n",
       "        text-align: right;\n",
       "    }\n",
       "</style>\n",
       "<table border=\"1\" class=\"dataframe\">\n",
       "  <thead>\n",
       "    <tr style=\"text-align: right;\">\n",
       "      <th></th>\n",
       "      <th>dataset</th>\n",
       "      <th>x_mean</th>\n",
       "      <th>x_var</th>\n",
       "      <th>y_mean</th>\n",
       "      <th>y_var</th>\n",
       "      <th>pearson_corr</th>\n",
       "    </tr>\n",
       "  </thead>\n",
       "  <tbody>\n",
       "    <tr>\n",
       "      <th>0</th>\n",
       "      <td>dino</td>\n",
       "      <td>54.263273</td>\n",
       "      <td>281.069988</td>\n",
       "      <td>47.832253</td>\n",
       "      <td>725.515961</td>\n",
       "      <td>-0.064472</td>\n",
       "    </tr>\n",
       "    <tr>\n",
       "      <th>1</th>\n",
       "      <td>away</td>\n",
       "      <td>54.266100</td>\n",
       "      <td>281.227029</td>\n",
       "      <td>47.834721</td>\n",
       "      <td>725.749775</td>\n",
       "      <td>-0.064128</td>\n",
       "    </tr>\n",
       "    <tr>\n",
       "      <th>2</th>\n",
       "      <td>h_lines</td>\n",
       "      <td>54.261442</td>\n",
       "      <td>281.095333</td>\n",
       "      <td>47.830252</td>\n",
       "      <td>725.756931</td>\n",
       "      <td>-0.061715</td>\n",
       "    </tr>\n",
       "    <tr>\n",
       "      <th>3</th>\n",
       "      <td>v_lines</td>\n",
       "      <td>54.269927</td>\n",
       "      <td>281.231512</td>\n",
       "      <td>47.836988</td>\n",
       "      <td>725.638809</td>\n",
       "      <td>-0.069446</td>\n",
       "    </tr>\n",
       "    <tr>\n",
       "      <th>4</th>\n",
       "      <td>x_shape</td>\n",
       "      <td>54.260150</td>\n",
       "      <td>281.231481</td>\n",
       "      <td>47.839717</td>\n",
       "      <td>725.224991</td>\n",
       "      <td>-0.065583</td>\n",
       "    </tr>\n",
       "    <tr>\n",
       "      <th>5</th>\n",
       "      <td>star</td>\n",
       "      <td>54.267341</td>\n",
       "      <td>281.197993</td>\n",
       "      <td>47.839545</td>\n",
       "      <td>725.239695</td>\n",
       "      <td>-0.062961</td>\n",
       "    </tr>\n",
       "    <tr>\n",
       "      <th>6</th>\n",
       "      <td>high_lines</td>\n",
       "      <td>54.268805</td>\n",
       "      <td>281.122364</td>\n",
       "      <td>47.835450</td>\n",
       "      <td>725.763490</td>\n",
       "      <td>-0.068504</td>\n",
       "    </tr>\n",
       "    <tr>\n",
       "      <th>7</th>\n",
       "      <td>dots</td>\n",
       "      <td>54.260303</td>\n",
       "      <td>281.156953</td>\n",
       "      <td>47.839829</td>\n",
       "      <td>725.235215</td>\n",
       "      <td>-0.060341</td>\n",
       "    </tr>\n",
       "    <tr>\n",
       "      <th>8</th>\n",
       "      <td>circle</td>\n",
       "      <td>54.267320</td>\n",
       "      <td>280.898024</td>\n",
       "      <td>47.837717</td>\n",
       "      <td>725.226844</td>\n",
       "      <td>-0.068343</td>\n",
       "    </tr>\n",
       "    <tr>\n",
       "      <th>9</th>\n",
       "      <td>bullseye</td>\n",
       "      <td>54.268730</td>\n",
       "      <td>281.207393</td>\n",
       "      <td>47.830823</td>\n",
       "      <td>725.533372</td>\n",
       "      <td>-0.068586</td>\n",
       "    </tr>\n",
       "    <tr>\n",
       "      <th>10</th>\n",
       "      <td>slant_up</td>\n",
       "      <td>54.265882</td>\n",
       "      <td>281.194420</td>\n",
       "      <td>47.831496</td>\n",
       "      <td>725.688605</td>\n",
       "      <td>-0.068609</td>\n",
       "    </tr>\n",
       "    <tr>\n",
       "      <th>11</th>\n",
       "      <td>slant_down</td>\n",
       "      <td>54.267849</td>\n",
       "      <td>281.124206</td>\n",
       "      <td>47.835896</td>\n",
       "      <td>725.553749</td>\n",
       "      <td>-0.068980</td>\n",
       "    </tr>\n",
       "    <tr>\n",
       "      <th>12</th>\n",
       "      <td>wide_lines</td>\n",
       "      <td>54.266916</td>\n",
       "      <td>281.232887</td>\n",
       "      <td>47.831602</td>\n",
       "      <td>725.650560</td>\n",
       "      <td>-0.066575</td>\n",
       "    </tr>\n",
       "  </tbody>\n",
       "</table>\n",
       "</div>"
      ],
      "text/plain": [
       "       dataset     x_mean       x_var     y_mean       y_var  pearson_corr\n",
       "0         dino  54.263273  281.069988  47.832253  725.515961     -0.064472\n",
       "1         away  54.266100  281.227029  47.834721  725.749775     -0.064128\n",
       "2      h_lines  54.261442  281.095333  47.830252  725.756931     -0.061715\n",
       "3      v_lines  54.269927  281.231512  47.836988  725.638809     -0.069446\n",
       "4      x_shape  54.260150  281.231481  47.839717  725.224991     -0.065583\n",
       "5         star  54.267341  281.197993  47.839545  725.239695     -0.062961\n",
       "6   high_lines  54.268805  281.122364  47.835450  725.763490     -0.068504\n",
       "7         dots  54.260303  281.156953  47.839829  725.235215     -0.060341\n",
       "8       circle  54.267320  280.898024  47.837717  725.226844     -0.068343\n",
       "9     bullseye  54.268730  281.207393  47.830823  725.533372     -0.068586\n",
       "10    slant_up  54.265882  281.194420  47.831496  725.688605     -0.068609\n",
       "11  slant_down  54.267849  281.124206  47.835896  725.553749     -0.068980\n",
       "12  wide_lines  54.266916  281.232887  47.831602  725.650560     -0.066575"
      ]
     },
     "execution_count": 18,
     "metadata": {},
     "output_type": "execute_result"
    }
   ],
   "source": [
    "df=pd.DataFrame({'dataset':dataset, \n",
    "                 'x_mean':x_mean, 'x_var':x_var,\n",
    "                'y_mean':y_mean, 'y_var':y_var,\n",
    "                'pearson_corr':xy_pearson_corr})\n",
    "\n",
    "df"
   ]
  },
  {
   "cell_type": "code",
   "execution_count": null,
   "metadata": {},
   "outputs": [],
   "source": []
  },
  {
   "cell_type": "code",
   "execution_count": null,
   "metadata": {},
   "outputs": [],
   "source": []
  }
 ],
 "metadata": {
  "kernelspec": {
   "display_name": "Python 3",
   "language": "python",
   "name": "python3"
  },
  "language_info": {
   "codemirror_mode": {
    "name": "ipython",
    "version": 3
   },
   "file_extension": ".py",
   "mimetype": "text/x-python",
   "name": "python",
   "nbconvert_exporter": "python",
   "pygments_lexer": "ipython3",
   "version": "3.6.8"
  }
 },
 "nbformat": 4,
 "nbformat_minor": 2
}
